{
 "cells": [
  {
   "cell_type": "code",
   "execution_count": 24,
   "metadata": {},
   "outputs": [
    {
     "name": "stdout",
     "output_type": "stream",
     "text": [
      "[0.8675655623840401, 0.5990696109472647, 1.0142879977463988]\n"
     ]
    }
   ],
   "source": [
    "from PIL import Image, ImageStat\n",
    "\n",
    "im = Image.open('black.jpg')\n",
    "stat = ImageStat.Stat(im)\n",
    "print(stat.stddev)"
   ]
  },
  {
   "cell_type": "code",
   "execution_count": 20,
   "metadata": {},
   "outputs": [
    {
     "data": {
      "text/plain": [
       "1.1582195073535473"
      ]
     },
     "execution_count": 20,
     "metadata": {},
     "output_type": "execute_result"
    }
   ],
   "source": [
    "import cv2\n",
    "import numpy as np\n",
    "img=cv2.imread('black.jpg')\n",
    "cv2.imshow('black.jpg',img)\n",
    "cv2.waitKey(0)\n",
    "np.std(img)"
   ]
  },
  {
   "cell_type": "code",
   "execution_count": 12,
   "metadata": {},
   "outputs": [
    {
     "data": {
      "text/plain": [
       "3577.8586523176095"
      ]
     },
     "execution_count": 12,
     "metadata": {},
     "output_type": "execute_result"
    }
   ],
   "source": [
    "import cv2\n",
    "import numpy as np\n",
    "img=cv2.imread('cat.jpg')\n",
    "cv2.imshow('cat.jpg',img)\n",
    "cv2.waitKey(0)\n",
    "np.var(img)"
   ]
  },
  {
   "cell_type": "code",
   "execution_count": 44,
   "metadata": {},
   "outputs": [
    {
     "data": {
      "text/plain": [
       "255"
      ]
     },
     "execution_count": 44,
     "metadata": {},
     "output_type": "execute_result"
    }
   ],
   "source": [
    "import cv2\n",
    "import numpy as np\n",
    "img=cv2.imread('cat.jpg')\n",
    "cv2.imshow('cat.jpg',img)\n",
    "cv2.waitKey(0)\n",
    "#max_channels=np.amax([np.amax(img[:,:,0]),np.amax(img[:,:,1]),np.amax(img[:,:,2])])\n",
    "#print(max_channels)\n",
    "np.max(img)"
   ]
  },
  {
   "cell_type": "code",
   "execution_count": 43,
   "metadata": {},
   "outputs": [
    {
     "data": {
      "text/plain": [
       "0"
      ]
     },
     "execution_count": 43,
     "metadata": {},
     "output_type": "execute_result"
    }
   ],
   "source": [
    "import cv2\n",
    "import numpy as np\n",
    "img=cv2.imread('bla.jpg')\n",
    "cv2.imshow('bla.jpg',img)\n",
    "cv2.waitKey(0)\n",
    "#min_channels=np.amin([np.amin(img[:,:,0]),np.amin(img[:,:,1]),np.amin(img[:,:,2])])\n",
    "#print(min_channels)\n",
    "np.min(img)"
   ]
  },
  {
   "cell_type": "code",
   "execution_count": 23,
   "metadata": {},
   "outputs": [
    {
     "data": {
      "text/plain": [
       "113.64529966329967"
      ]
     },
     "execution_count": 23,
     "metadata": {},
     "output_type": "execute_result"
    }
   ],
   "source": [
    "import cv2\n",
    "import numpy as np\n",
    "img=cv2.imread('cat.jpg')\n",
    "cv2.imshow('cat.jpg',img)\n",
    "cv2.waitKey(0)\n",
    "np.average(img)"
   ]
  },
  {
   "cell_type": "code",
   "execution_count": 13,
   "metadata": {},
   "outputs": [],
   "source": [
    "from PIL import Image\n",
    "import numpy as np\n",
    "w, h = 1000, 1000\n",
    "data = np.zeros((h, w, 3), dtype=np.uint8)\n",
    "data[0:256, 0:256] = [204, 0, 0]\n",
    "data[257:512,0:256] = [0, 255, 0]\n",
    "data[513:780, 0:256] = [0, 0, 255]\n",
    "data[781:1000, 0:256] = [0, 125, 255]\n",
    "data[0:256, 257:512] = [255, 212, 0]\n",
    "data[0:256, 513:780] = [0, 212, 56]\n",
    "data[0:256, 781:1000] = [245, 0, 56]\n",
    "data[257:512,257:512] = [24, 5, 255]\n",
    "data[257:512,513:780] = [240, 52, 255]\n",
    "data[257:512,781:1000] = [40, 252, 255]\n",
    "data[513:780,257:512] = [140, 52, 255]\n",
    "data[781:1000,257:512] = [240, 152, 255]\n",
    "data[781:1000,513:780] = [40, 152, 255]\n",
    "data[781:1000,780:1000] = [240, 152, 255]\n",
    "data[513:780,513:780] = [200, 52, 55]\n",
    "data[513:780,781:1000] = [0, 252, 155]\n",
    "img = Image.fromarray(data, 'RGB')\n",
    "img.save('my.jpg')\n",
    "img.show()"
   ]
  },
  {
   "cell_type": "code",
   "execution_count": 14,
   "metadata": {},
   "outputs": [
    {
     "data": {
      "image/png": "[encoded data removed]",
      "text/plain": [
       "<Figure size 432x288 with 1 Axes>"
      ]
     },
     "metadata": {
      "needs_background": "light"
     },
     "output_type": "display_data"
    }
   ],
   "source": [
    "import numpy as np\n",
    "import matplotlib.pyplot as plt\n",
    "\n",
    "\n",
    "array_colors = np.array([[[255, 0, 0], \n",
    "                         [0, 255, 0],\n",
    "                         [0, 0, 255]],\n",
    "                         [[0, 0, 0], \n",
    "                    [255, 255, 255],\n",
    "                    [128, 128, 128]],\n",
    "                    [[255, 212, 0], \n",
    "                    [255, 0, 255],\n",
    "                    [240, 152, 255]],\n",
    "                    ])\n",
    "plt.imshow(array_colors);"
   ]
  },
  {
   "cell_type": "code",
   "execution_count": 39,
   "metadata": {},
   "outputs": [
    {
     "name": "stdout",
     "output_type": "stream",
     "text": [
      "[[[114  92  95]\n",
      "  [113  91  94]\n",
      "  [112  90  93]\n",
      "  ...\n",
      "  [164 113  92]\n",
      "  [164 113  92]\n",
      "  [164 113  92]]\n",
      "\n",
      " [[114  92  95]\n",
      "  [114  92  95]\n",
      "  [113  91  94]\n",
      "  ...\n",
      "  [162 111  90]\n",
      "  [162 111  90]\n",
      "  [162 111  90]]\n",
      "\n",
      " [[117  92  96]\n",
      "  [115  93  96]\n",
      "  [114  92  95]\n",
      "  ...\n",
      "  [161 113  93]\n",
      "  [161 113  93]\n",
      "  [161 113  93]]\n",
      "\n",
      " ...\n",
      "\n",
      " [[214 174 139]\n",
      "  [220 181 148]\n",
      "  [216 180 148]\n",
      "  ...\n",
      "  [182 131 100]\n",
      "  [184 133 102]\n",
      "  [186 135 104]]\n",
      "\n",
      " [[215 175 140]\n",
      "  [222 183 150]\n",
      "  [220 184 152]\n",
      "  ...\n",
      "  [205 154 123]\n",
      "  [206 155 124]\n",
      "  [209 158 127]]\n",
      "\n",
      " [[219 179 144]\n",
      "  [227 188 155]\n",
      "  [226 190 158]\n",
      "  ...\n",
      "  [223 172 141]\n",
      "  [222 171 140]\n",
      "  [220 169 138]]]\n"
     ]
    }
   ],
   "source": [
    "from PIL import Image\n",
    "from numpy import asarray\n",
    "img = Image.open('cat.jpg')\n",
    "numpydata = asarray(img)\n",
    "print(numpydata)"
   ]
  },
  {
   "cell_type": "code",
   "execution_count": 38,
   "metadata": {},
   "outputs": [
    {
     "data": {
      "image/png": "[encoded data removed]",
      "text/plain": [
       "<Figure size 432x288 with 1 Axes>"
      ]
     },
     "metadata": {
      "needs_background": "light"
     },
     "output_type": "display_data"
    }
   ],
   "source": [
    "from PIL import Image\n",
    "import matplotlib.pyplot as plt\n",
    "input_image = Image.new(mode=\"RGB\", size=(1000, 1000),color=\"pink\")\n",
    "pixel_map = input_image.load()\n",
    "width, height = input_image.size\n",
    "z = 100\n",
    "for i in range(width):\n",
    "    for j in range(height):\n",
    "        if((i >= z and i <= width-z) and (j >= z and j <= height-z)):\n",
    "            pixel_map[i, j] = (230,230,250)\n",
    "        else:\n",
    "            pixel_map[i, j] = (216,191,216)\n",
    "for i in range(width):\n",
    "            pixel_map[i, i] = (0, 0, 255)\n",
    "            \n",
    "            pixel_map[i, width-i-1] = (0, 0, 255)\n",
    "plt.imshow(input_image)\n",
    "plt.show()"
   ]
  },
  {
   "cell_type": "code",
   "execution_count": 1,
   "metadata": {},
   "outputs": [
    {
     "name": "stdout",
     "output_type": "stream",
     "text": [
      "3 3 3 3 3 \n",
      "3 2 2 2 3 \n",
      "3 2 1 2 3 \n",
      "3 2 2 2 3 \n",
      "3 3 3 3 3 \n"
     ]
    }
   ],
   "source": [
    "# Python3 program for printing\n",
    "# the rectangular pattern\n",
    " \n",
    "# Function to print the pattern\n",
    "def printPattern(n):\n",
    " \n",
    "    arraySize = n * 2 - 1;\n",
    "    result = [[0 for x in range(arraySize)]\n",
    "                 for y in range(arraySize)];\n",
    "         \n",
    "    # Fill the values\n",
    "    for i in range(arraySize):\n",
    "        for j in range(arraySize):\n",
    "            if(abs(i - (arraySize // 2)) >\n",
    "               abs(j - (arraySize // 2))):\n",
    "                result[i][j] = abs(i - (arraySize // 2)) + 1;\n",
    "            else:\n",
    "                result[i][j] = abs(j - (arraySize // 2)) + 1;\n",
    "             \n",
    "    # Print the array\n",
    "    for i in range(arraySize):\n",
    "        for j in range(arraySize):\n",
    "            print(result[i][j], end = \" \");\n",
    "        print(\"\");\n",
    " \n",
    "# Driver Code\n",
    "n = 3;\n",
    " \n",
    "printPattern(n);\n"
   ]
  },
  {
   "cell_type": "code",
   "execution_count": 5,
   "metadata": {},
   "outputs": [
    {
     "data": {
      "image/png": "[encoded data removed]",
      "text/plain": [
       "<Figure size 432x288 with 1 Axes>"
      ]
     },
     "metadata": {
      "needs_background": "light"
     },
     "output_type": "display_data"
    }
   ],
   "source": [
    "import numpy as np\n",
    "import matplotlib.pyplot as plt\n",
    "arr = np.zeros((256,256,3), dtype=np.uint8)\n",
    "imgsize = arr.shape[:2]\n",
    "innerColor = (255, 255, 255)\n",
    "outerColor = (0, 0, 0)\n",
    "for y in range(imgsize[1]):\n",
    "    for x in range(imgsize[0]):\n",
    "        distanceToCenter = np.sqrt((x - imgsize[0]//2) ** 2 + (y - imgsize[1]//2) ** 2)\n",
    "        distanceToCenter = distanceToCenter / (np.sqrt(2) * imgsize[0]/2)\n",
    "        r = outerColor[0] * distanceToCenter + innerColor[0] * (1 - distanceToCenter)\n",
    "        g = outerColor[1] * distanceToCenter + innerColor[1] * (1 - distanceToCenter)\n",
    "        b = outerColor[2] * distanceToCenter + innerColor[2] * (1 - distanceToCenter)\n",
    "        arr[y, x] = (int(r), int(g), int(b))\n",
    "plt.imshow(arr, cmap='gray')\n",
    "plt.show()"
   ]
  },
  {
   "cell_type": "code",
   "execution_count": 18,
   "metadata": {},
   "outputs": [
    {
     "data": {
      "image/png": "[encoded data removed]",
      "text/plain": [
       "<Figure size 432x288 with 1 Axes>"
      ]
     },
     "metadata": {
      "needs_background": "light"
     },
     "output_type": "display_data"
    }
   ],
   "source": [
    "import numpy as np\n",
    "import matplotlib.pyplot as plt\n",
    "from PIL import Image\n",
    "imgsize=(650,650)\n",
    "image = Image.new('RGB', imgsize)\n",
    "innerColor = [153,0,0]\n",
    "for y in range(imgsize[1]):\n",
    " for x in range(imgsize[0]):\n",
    "    distanceToCenter =np.sqrt((x - imgsize[0]/2) ** 2 + (y - imgsize[1]/2) ** 2)\n",
    "    distanceToCenter = (distanceToCenter) / (np.sqrt(2) * imgsize[0]/2)\n",
    "    r = distanceToCenter + innerColor[0] * (1 - distanceToCenter)\n",
    "    g = distanceToCenter + innerColor[1] * (1 - distanceToCenter)\n",
    "    b = distanceToCenter + innerColor[2] * (1 - distanceToCenter)\n",
    "    image.putpixel((x, y), (int(r), int(g), int(b)))\n",
    "plt.imshow(image)\n",
    "plt.show()"
   ]
  },
  {
   "cell_type": "code",
   "execution_count": 25,
   "metadata": {},
   "outputs": [
    {
     "data": {
      "image/png": "[encoded data removed]",
      "text/plain": [
       "<Figure size 432x288 with 1 Axes>"
      ]
     },
     "metadata": {
      "needs_background": "light"
     },
     "output_type": "display_data"
    }
   ],
   "source": [
    "from PIL import Image\n",
    "import numpy as np\n",
    "w, h = 512, 512\n",
    "data = np.zeros((h, w, 3), dtype=np.uint8)\n",
    "data[0:100, 0:100] = [255, 0, 0]\n",
    "data[100:200, 100:200] = [255, 0, 255]\n",
    "data[200:300, 200:300] = [0, 255, 0]\n",
    "img = Image.fromarray(data, 'RGB')\n",
    "img.save('butterfly.jpg')\n",
    "plt.imshow(img)\n",
    "plt.show()"
   ]
  },
  {
   "cell_type": "code",
   "execution_count": 27,
   "metadata": {},
   "outputs": [
    {
     "name": "stdout",
     "output_type": "stream",
     "text": [
      "2 2 2 2 2 \n",
      "2 1 1 1 2 \n",
      "2 1 0 1 2 \n",
      "2 1 1 1 2 \n",
      "2 2 2 2 2 \n"
     ]
    },
    {
     "ename": "NameError",
     "evalue": "name 'mat2gray' is not defined",
     "output_type": "error",
     "traceback": [
      "\u001b[1;31m---------------------------------------------------------------------------\u001b[0m",
      "\u001b[1;31mNameError\u001b[0m                                 Traceback (most recent call last)",
      "\u001b[1;32m<ipython-input-27-abf7d64e2e28>\u001b[0m in \u001b[0;36m<module>\u001b[1;34m\u001b[0m\n\u001b[0;32m     28\u001b[0m \u001b[1;33m\u001b[0m\u001b[0m\n\u001b[0;32m     29\u001b[0m \u001b[0mprintPattern\u001b[0m\u001b[1;33m(\u001b[0m\u001b[0mn\u001b[0m\u001b[1;33m)\u001b[0m\u001b[1;33m;\u001b[0m\u001b[1;33m\u001b[0m\u001b[1;33m\u001b[0m\u001b[0m\n\u001b[1;32m---> 30\u001b[1;33m \u001b[0mI\u001b[0m \u001b[1;33m=\u001b[0m \u001b[0mmat2gray\u001b[0m\u001b[1;33m(\u001b[0m\u001b[0mn\u001b[0m\u001b[1;33m,\u001b[0m\u001b[1;33m[\u001b[0m\u001b[0mi\u001b[0m\u001b[1;33m,\u001b[0m \u001b[0mj\u001b[0m\u001b[1;33m]\u001b[0m\u001b[1;33m)\u001b[0m\u001b[1;33m\u001b[0m\u001b[1;33m\u001b[0m\u001b[0m\n\u001b[0m\u001b[0;32m     31\u001b[0m \u001b[0mI\u001b[0m \u001b[1;33m=\u001b[0m \u001b[0mmat2gray\u001b[0m\u001b[1;33m(\u001b[0m\u001b[0mn\u001b[0m\u001b[1;33m)\u001b[0m\u001b[1;33m\u001b[0m\u001b[1;33m\u001b[0m\u001b[0m\n",
      "\u001b[1;31mNameError\u001b[0m: name 'mat2gray' is not defined"
     ]
    }
   ],
   "source": [
    "# Python3 program for printing\n",
    "# the rectangular pattern\n",
    " \n",
    "# Function to print the pattern\n",
    "def printPattern(n):\n",
    " \n",
    "    arraySize = n * 2 - 1;\n",
    "    result = [[0 for x in range(arraySize)]\n",
    "                 for y in range(arraySize)];\n",
    "         \n",
    "    # Fill the values\n",
    "    for i in range(arraySize):\n",
    "        for j in range(arraySize):\n",
    "            if(abs(i - (arraySize // 2)) >\n",
    "               abs(j - (arraySize // 2))):\n",
    "                result[i][j] = abs(i - (arraySize // 2)) ;\n",
    "            else:\n",
    "                result[i][j] = abs(j - (arraySize // 2));\n",
    "             \n",
    "    # Print the array\n",
    "    for i in range(arraySize):\n",
    "        for j in range(arraySize):\n",
    "            print(result[i][j], end = \" \");\n",
    "        print(\"\");\n",
    " \n",
    "# Driver Code\n",
    "n = 3;\n",
    " \n",
    "printPattern(n);\n",
    "I = mat2gray(n,[i, j])\n",
    "I = mat2gray(n)"
   ]
  },
  {
   "cell_type": "code",
   "execution_count": 29,
   "metadata": {},
   "outputs": [
    {
     "data": {
      "image/png": "[encoded data removed]",
      "text/plain": [
       "<Figure size 504x252 with 1 Axes>"
      ]
     },
     "metadata": {
      "needs_background": "light"
     },
     "output_type": "display_data"
    }
   ],
   "source": [
    "from matplotlib import pyplot as plt\n",
    "import numpy as np\n",
    "\n",
    "# Set the figure size\n",
    "plt.rcParams[\"figure.figsize\"] = [7.00, 3.50]\n",
    "plt.rcParams[\"figure.autolayout\"] = True\n",
    "\n",
    "# Random data points\n",
    "data = np.random.rand(4, 4)\n",
    "\n",
    "# Plot the data using imshow with gray colormap\n",
    "plt.imshow(data, cmap='Reds')\n",
    "\n",
    "# Display the plot\n",
    "plt.show()"
   ]
  },
  {
   "cell_type": "code",
   "execution_count": 41,
   "metadata": {},
   "outputs": [
    {
     "data": {
      "image/png": "[encoded data removed]",
      "text/plain": [
       "<Figure size 504x252 with 1 Axes>"
      ]
     },
     "metadata": {
      "needs_background": "light"
     },
     "output_type": "display_data"
    }
   ],
   "source": [
    "import matplotlib.pyplot as plt\n",
    "       \n",
    "M =    ([9, 2, 7, 2, 9],  \n",
    "        [2, 5, 1, 5, 2],  \n",
    "        [9, 1, 7, 1, 9],  \n",
    "        [2, 8, 1, 9, 2],\n",
    "        [9, 2, 9, 2, 9])  \n",
    "plt.imshow(M)\n",
    "plt.show()"
   ]
  },
  {
   "cell_type": "code",
   "execution_count": 40,
   "metadata": {},
   "outputs": [
    {
     "name": "stdout",
     "output_type": "stream",
     "text": [
      "[[251 251 251 251 251 251 251 251 251 251]\n",
      " [251 251 251 251 251 251 251 251 251 251]\n",
      " [251 251 251 251 251 251 251 251 251 251]\n",
      " [251 251 251 251 251 251 251 251 251 251]\n",
      " [251 251 251 251 251 251 251 251 251 251]\n",
      " [251 251 251 251 251 251 251 251 251 251]\n",
      " [251 251 251 251 251 251 251 251 251 251]\n",
      " [251 251 251 251 251 251 251 251 251 251]\n",
      " [251 251 251 251 251 251 251 251 251 251]\n",
      " [251 251 251 251 251 251 251 251 251 251]\n",
      " [251 251 251 251 251 251 251 251 251 251]\n",
      " [251 251 251 251 251 251 251 251 251 251]\n",
      " [251 251 251 251 251 251 251 251 251 251]\n",
      " [251 251 251 251 251 251 251 251 251 251]\n",
      " [251 251 251 251 251 251 251 251 251 251]\n",
      " [251 251 251 251 251 251 251 251 251 251]\n",
      " [251 251 251 251 251 251 251 251 251 251]\n",
      " [251 251 251 251 251 251 251 251 251 251]\n",
      " [251 251 251 251 251 251 251 251 251 251]\n",
      " [251 251 251 251 251 251 251 251 251 251]]\n"
     ]
    }
   ],
   "source": [
    "from PIL import Image\n",
    "\n",
    "# import required module\n",
    "import numpy as np\n",
    "  \n",
    "# use full() with a\n",
    "# constant value of 60\n",
    "array = np.full((20, 10), 251)\n",
    "  \n",
    "# display matrix\n",
    "print(array)\n",
    "img = Image.fromarray(array, 'RGB')\n",
    "img.show()"
   ]
  },
  {
   "cell_type": "code",
   "execution_count": null,
   "metadata": {},
   "outputs": [],
   "source": []
  }
 ],
 "metadata": {
  "kernelspec": {
   "display_name": "Python 3",
   "language": "python",
   "name": "python3"
  },
  "language_info": {
   "codemirror_mode": {
    "name": "ipython",
    "version": 3
   },
   "file_extension": ".py",
   "mimetype": "text/x-python",
   "name": "python",
   "nbconvert_exporter": "python",
   "pygments_lexer": "ipython3",
   "version": "3.8.5"
  }
 },
 "nbformat": 4,
 "nbformat_minor": 4
}
