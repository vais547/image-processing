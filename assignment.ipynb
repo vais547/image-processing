{
 "cells": [
  {
   "cell_type": "code",
   "execution_count": 24,
   "metadata": {},
   "outputs": [
    {
     "name": "stdout",
     "output_type": "stream",
     "text": [
      "[0.8675655623840401, 0.5990696109472647, 1.0142879977463988]\n"
     ]
    }
   ],
   "source": [
    "from PIL import Image, ImageStat\n",
    "\n",
    "im = Image.open('black.jpg')\n",
    "stat = ImageStat.Stat(im)\n",
    "print(stat.stddev)"
   ]
  },
  {
   "cell_type": "code",
   "execution_count": 20,
   "metadata": {},
   "outputs": [
    {
     "data": {
      "text/plain": [
       "1.1582195073535473"
      ]
     },
     "execution_count": 20,
     "metadata": {},
     "output_type": "execute_result"
    }
   ],
   "source": [
    "import cv2\n",
    "import numpy as np\n",
    "img=cv2.imread('black.jpg')\n",
    "cv2.imshow('black.jpg',img)\n",
    "cv2.waitKey(0)\n",
    "np.std(img)"
   ]
  },
  {
   "cell_type": "code",
   "execution_count": 12,
   "metadata": {},
   "outputs": [
    {
     "data": {
      "text/plain": [
       "3577.8586523176095"
      ]
     },
     "execution_count": 12,
     "metadata": {},
     "output_type": "execute_result"
    }
   ],
   "source": [
    "import cv2\n",
    "import numpy as np\n",
    "img=cv2.imread('cat.jpg')\n",
    "cv2.imshow('cat.jpg',img)\n",
    "cv2.waitKey(0)\n",
    "np.var(img)"
   ]
  },
  {
   "cell_type": "code",
   "execution_count": 44,
   "metadata": {},
   "outputs": [
    {
     "data": {
      "text/plain": [
       "255"
      ]
     },
     "execution_count": 44,
     "metadata": {},
     "output_type": "execute_result"
    }
   ],
   "source": [
    "import cv2\n",
    "import numpy as np\n",
    "img=cv2.imread('cat.jpg')\n",
    "cv2.imshow('cat.jpg',img)\n",
    "cv2.waitKey(0)\n",
    "#max_channels=np.amax([np.amax(img[:,:,0]),np.amax(img[:,:,1]),np.amax(img[:,:,2])])\n",
    "#print(max_channels)\n",
    "np.max(img)"
   ]
  },
  {
   "cell_type": "code",
   "execution_count": 43,
   "metadata": {},
   "outputs": [
    {
     "data": {
      "text/plain": [
       "0"
      ]
     },
     "execution_count": 43,
     "metadata": {},
     "output_type": "execute_result"
    }
   ],
   "source": [
    "import cv2\n",
    "import numpy as np\n",
    "img=cv2.imread('bla.jpg')\n",
    "cv2.imshow('bla.jpg',img)\n",
    "cv2.waitKey(0)\n",
    "#min_channels=np.amin([np.amin(img[:,:,0]),np.amin(img[:,:,1]),np.amin(img[:,:,2])])\n",
    "#print(min_channels)\n",
    "np.min(img)"
   ]
  },
  {
   "cell_type": "code",
   "execution_count": 23,
   "metadata": {},
   "outputs": [
    {
     "data": {
      "text/plain": [
       "113.64529966329967"
      ]
     },
     "execution_count": 23,
     "metadata": {},
     "output_type": "execute_result"
    }
   ],
   "source": [
    "import cv2\n",
    "import numpy as np\n",
    "img=cv2.imread('cat.jpg')\n",
    "cv2.imshow('cat.jpg',img)\n",
    "cv2.waitKey(0)\n",
    "np.average(img)"
   ]
  },
  {
   "cell_type": "code",
   "execution_count": 13,
   "metadata": {},
   "outputs": [],
   "source": [
    "from PIL import Image\n",
    "import numpy as np\n",
    "w, h = 1000, 1000\n",
    "data = np.zeros((h, w, 3), dtype=np.uint8)\n",
    "data[0:256, 0:256] = [204, 0, 0]\n",
    "data[257:512,0:256] = [0, 255, 0]\n",
    "data[513:780, 0:256] = [0, 0, 255]\n",
    "data[781:1000, 0:256] = [0, 125, 255]\n",
    "data[0:256, 257:512] = [255, 212, 0]\n",
    "data[0:256, 513:780] = [0, 212, 56]\n",
    "data[0:256, 781:1000] = [245, 0, 56]\n",
    "data[257:512,257:512] = [24, 5, 255]\n",
    "data[257:512,513:780] = [240, 52, 255]\n",
    "data[257:512,781:1000] = [40, 252, 255]\n",
    "data[513:780,257:512] = [140, 52, 255]\n",
    "data[781:1000,257:512] = [240, 152, 255]\n",
    "data[781:1000,513:780] = [40, 152, 255]\n",
    "data[781:1000,780:1000] = [240, 152, 255]\n",
    "data[513:780,513:780] = [200, 52, 55]\n",
    "data[513:780,781:1000] = [0, 252, 155]\n",
    "img = Image.fromarray(data, 'RGB')\n",
    "img.save('my.jpg')\n",
    "img.show()"
   ]
  },
  {
   "cell_type": "code",
   "execution_count": 14,
   "metadata": {},
   "outputs": [
    {
     "data": {
      "image/png": "[encoded data removed]",
      "text/plain": [
       "<Figure size 432x288 with 1 Axes>"
      ]
     },
     "metadata": {
      "needs_background": "light"
     },
     "output_type": "display_data"
    }
   ],
   "source": [
    "import numpy as np\n",
    "import matplotlib.pyplot as plt\n",
    "\n",
    "\n",
    "array_colors = np.array([[[255, 0, 0], \n",
    "                         [0, 255, 0],\n",
    "                         [0, 0, 255]],\n",
    "                         [[0, 0, 0], \n",
    "                    [255, 255, 255],\n",
    "                    [128, 128, 128]],\n",
    "                    [[255, 212, 0], \n",
    "                    [255, 0, 255],\n",
    "                    [240, 152, 255]],\n",
    "                    ])\n",
    "plt.imshow(array_colors);"
   ]
  },
  {
   "cell_type": "code",
   "execution_count": 39,
   "metadata": {},
   "outputs": [
    {
     "name": "stdout",
     "output_type": "stream",
     "text": [
      "[[[114  92  95]\n",
      "  [113  91  94]\n",
      "  [112  90  93]\n",
      "  ...\n",
      "  [164 113  92]\n",
      "  [164 113  92]\n",
      "  [164 113  92]]\n",
      "\n",
      " [[114  92  95]\n",
      "  [114  92  95]\n",
      "  [113  91  94]\n",
      "  ...\n",
      "  [162 111  90]\n",
      "  [162 111  90]\n",
      "  [162 111  90]]\n",
      "\n",
      " [[117  92  96]\n",
      "  [115  93  96]\n",
      "  [114  92  95]\n",
      "  ...\n",
      "  [161 113  93]\n",
      "  [161 113  93]\n",
      "  [161 113  93]]\n",
      "\n",
      " ...\n",
      "\n",
      " [[214 174 139]\n",
      "  [220 181 148]\n",
      "  [216 180 148]\n",
      "  ...\n",
      "  [182 131 100]\n",
      "  [184 133 102]\n",
      "  [186 135 104]]\n",
      "\n",
      " [[215 175 140]\n",
      "  [222 183 150]\n",
      "  [220 184 152]\n",
      "  ...\n",
      "  [205 154 123]\n",
      "  [206 155 124]\n",
      "  [209 158 127]]\n",
      "\n",
      " [[219 179 144]\n",
      "  [227 188 155]\n",
      "  [226 190 158]\n",
      "  ...\n",
      "  [223 172 141]\n",
      "  [222 171 140]\n",
      "  [220 169 138]]]\n"
     ]
    }
   ],
   "source": [
    "from PIL import Image\n",
    "from numpy import asarray\n",
    "img = Image.open('cat.jpg')\n",
    "numpydata = asarray(img)\n",
    "print(numpydata)"
   ]
  },
  {
   "cell_type": "code",
   "execution_count": 38,
   "metadata": {},
   "outputs": [
    {
     "data": {
      "image/png": "[encoded data removed]",
      "text/plain": [
       "<Figure size 432x288 with 1 Axes>"
      ]
     },
     "metadata": {
      "needs_background": "light"
     },
     "output_type": "display_data"
    }
   ],
   "source": [
    "from PIL import Image\n",
    "import matplotlib.pyplot as plt\n",
    "input_image = Image.new(mode=\"RGB\", size=(1000, 1000),color=\"pink\")\n",
    "pixel_map = input_image.load()\n",
    "width, height = input_image.size\n",
    "z = 100\n",
    "for i in range(width):\n",
    "    for j in range(height):\n",
    "        if((i >= z and i <= width-z) and (j >= z and j <= height-z)):\n",
    "            pixel_map[i, j] = (230,230,250)\n",
    "        else:\n",
    "            pixel_map[i, j] = (216,191,216)\n",
    "for i in range(width):\n",
    "            pixel_map[i, i] = (0, 0, 255)\n",
    "            \n",
    "            pixel_map[i, width-i-1] = (0, 0, 255)\n",
    "plt.imshow(input_image)\n",
    "plt.show()"
   ]
  },
  {
   "cell_type": "code",
   "execution_count": null,
   "metadata": {},
   "outputs": [],
   "source": []
  }
 ],
 "metadata": {
  "kernelspec": {
   "display_name": "Python 3",
   "language": "python",
   "name": "python3"
  },
  "language_info": {
   "codemirror_mode": {
    "name": "ipython",
    "version": 3
   },
   "file_extension": ".py",
   "mimetype": "text/x-python",
   "name": "python",
   "nbconvert_exporter": "python",
   "pygments_lexer": "ipython3",
   "version": "3.8.5"
  }
 },
 "nbformat": 4,
 "nbformat_minor": 4
}
